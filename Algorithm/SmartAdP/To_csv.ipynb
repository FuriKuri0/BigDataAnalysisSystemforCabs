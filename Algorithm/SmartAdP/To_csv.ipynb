{
 "cells": [
  {
   "cell_type": "code",
   "execution_count": 1,
   "id": "982881f8",
   "metadata": {},
   "outputs": [],
   "source": [
    "import json\n",
    "import pandas as pd"
   ]
  },
  {
   "cell_type": "code",
   "execution_count": 4,
   "id": "edbb72e8",
   "metadata": {},
   "outputs": [],
   "source": [
    "with open('loca_billboard(k100).json','r') as f:\n",
    "    loca = json.load(f)"
   ]
  },
  {
   "cell_type": "code",
   "execution_count": 5,
   "id": "2d169a39",
   "metadata": {},
   "outputs": [],
   "source": [
    "loca = pd.DataFrame(loca)"
   ]
  },
  {
   "cell_type": "code",
   "execution_count": 9,
   "id": "bdd49c2d",
   "metadata": {},
   "outputs": [],
   "source": [
    "loca.to_csv('loca_billboard.csv',index=False)"
   ]
  },
  {
   "cell_type": "code",
   "execution_count": null,
   "id": "ad88a781",
   "metadata": {},
   "outputs": [],
   "source": []
  }
 ],
 "metadata": {
  "kernelspec": {
   "display_name": "Python 3",
   "language": "python",
   "name": "python3"
  },
  "language_info": {
   "codemirror_mode": {
    "name": "ipython",
    "version": 3
   },
   "file_extension": ".py",
   "mimetype": "text/x-python",
   "name": "python",
   "nbconvert_exporter": "python",
   "pygments_lexer": "ipython3",
   "version": "3.7.10"
  }
 },
 "nbformat": 4,
 "nbformat_minor": 5
}
