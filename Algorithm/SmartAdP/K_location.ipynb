{
 "cells": [
  {
   "cell_type": "code",
   "execution_count": 112,
   "id": "3247689d",
   "metadata": {},
   "outputs": [],
   "source": [
    "import json\n",
    "import numpy as np\n",
    "import pandas as pd\n",
    "import matplotlib.pyplot as plt\n",
    "from tqdm import tqdm"
   ]
  },
  {
   "cell_type": "markdown",
   "id": "6650335f",
   "metadata": {},
   "source": [
    "### 读取文件"
   ]
  },
  {
   "cell_type": "code",
   "execution_count": 191,
   "id": "c95a8631",
   "metadata": {},
   "outputs": [],
   "source": [
    "with open('new_intersections.json','r') as f:\n",
    "    inter_output = json.load(f)\n",
    "inter = inter_output.copy()\n",
    "tra = {}\n",
    "for i in range(16,23):\n",
    "    with open('trajs_day_201702{}.json.'.format(i),'r') as f:\n",
    "        tra_ = json.load(f)\n",
    "        le = len(tra)\n",
    "        for k,v in tra_.items():\n",
    "            tra[str(int(k) + le)] = v"
   ]
  },
  {
   "cell_type": "markdown",
   "id": "c3d1a51e",
   "metadata": {},
   "source": [
    "### 设置精度"
   ]
  },
  {
   "cell_type": "code",
   "execution_count": 192,
   "id": "820ad834",
   "metadata": {
    "tags": []
   },
   "outputs": [],
   "source": [
    "for i in range(len(tra)):\n",
    "    for j in range(len(tra['{}'.format(i)])):\n",
    "        tra['{}'.format(i)][j] = [round(k,4) for k in tra['{}'.format(i)][j]]\n",
    "for i in range(len(inter)):\n",
    "    inter[i] = [round(j,4) for j in inter[i]]"
   ]
  },
  {
   "cell_type": "markdown",
   "id": "c0417212",
   "metadata": {},
   "source": [
    "### 构建$I_{vt}$索引列表"
   ]
  },
  {
   "cell_type": "code",
   "execution_count": 193,
   "id": "119498c7",
   "metadata": {},
   "outputs": [
    {
     "name": "stderr",
     "output_type": "stream",
     "text": [
      "702it [01:55,  6.08it/s]\n"
     ]
    }
   ],
   "source": [
    "ivt = {}\n",
    "for i,point in tqdm(enumerate(inter)):\n",
    "    ivt[i] = []\n",
    "    for j,trajs in enumerate(tra):\n",
    "        if point in tra[trajs]:\n",
    "            ivt[i].append(j)"
   ]
  },
  {
   "cell_type": "code",
   "execution_count": 194,
   "id": "be7c0349",
   "metadata": {},
   "outputs": [],
   "source": [
    "ivt_ =  ivt.copy()\n",
    "for i in ivt:\n",
    "    if ivt[i] == [] :\n",
    "        del ivt_[i]"
   ]
  },
  {
   "cell_type": "markdown",
   "id": "3490156d",
   "metadata": {},
   "source": [
    "### 构建$I_{tv}$索引列表"
   ]
  },
  {
   "cell_type": "code",
   "execution_count": 195,
   "id": "07985a3d",
   "metadata": {},
   "outputs": [],
   "source": [
    "w_tra = {}\n",
    "for v in ivt_.values():\n",
    "    for i in range(len(v)):\n",
    "        if v[i] not in w_tra:\n",
    "            w_tra[v[i]] = []\n",
    "for k in w_tra:\n",
    "    for key,v in ivt_.items():\n",
    "        if k in v:\n",
    "            w_tra[k].append(key)"
   ]
  },
  {
   "cell_type": "markdown",
   "id": "a3df90dc",
   "metadata": {},
   "source": [
    "### 构建$c(v)$列表"
   ]
  },
  {
   "cell_type": "code",
   "execution_count": 196,
   "id": "875d2681",
   "metadata": {},
   "outputs": [],
   "source": [
    "V_can = {}\n",
    "for i in ivt_.keys():\n",
    "    V_can[i] = len(ivt_[i])"
   ]
  },
  {
   "cell_type": "markdown",
   "id": "53ac85e1",
   "metadata": {},
   "source": [
    "### k-location"
   ]
  },
  {
   "cell_type": "code",
   "execution_count": 197,
   "id": "517b8dc3",
   "metadata": {
    "tags": []
   },
   "outputs": [],
   "source": [
    "V_result = []\n",
    "Tr_cover = []\n",
    "# range里为k\n",
    "for i in range(50):\n",
    "    v_max = max(V_can.items(),key=lambda x:x[1])[0]\n",
    "    V_result.append(v_max)\n",
    "    temp_Tr = ivt_[v_max].copy()\n",
    "    for Tr in Tr_cover:\n",
    "        if Tr in temp_Tr:\n",
    "            temp_Tr.remove(Tr)\n",
    "    for Tr in temp_Tr:\n",
    "        for v in w_tra[Tr]:\n",
    "            V_can[v] -= 1\n",
    "    for Tr in ivt_[v_max]:\n",
    "        Tr_cover.append(Tr)"
   ]
  },
  {
   "cell_type": "code",
   "execution_count": 198,
   "id": "fca1efe3",
   "metadata": {},
   "outputs": [],
   "source": [
    "V_output = []\n",
    "for v in V_result:\n",
    "    V_output.append(inter_output[v])"
   ]
  },
  {
   "cell_type": "code",
   "execution_count": 200,
   "id": "6f226030",
   "metadata": {},
   "outputs": [],
   "source": [
    "with open('loca_billboard(k50).json','w') as f:\n",
    "    json.dump(V_output,f)"
   ]
  },
  {
   "cell_type": "code",
   "execution_count": null,
   "id": "69348b43",
   "metadata": {},
   "outputs": [],
   "source": []
  }
 ],
 "metadata": {
  "kernelspec": {
   "display_name": "Python 3",
   "language": "python",
   "name": "python3"
  },
  "language_info": {
   "codemirror_mode": {
    "name": "ipython",
    "version": 3
   },
   "file_extension": ".py",
   "mimetype": "text/x-python",
   "name": "python",
   "nbconvert_exporter": "python",
   "pygments_lexer": "ipython3",
   "version": "3.7.10"
  }
 },
 "nbformat": 4,
 "nbformat_minor": 5
}
