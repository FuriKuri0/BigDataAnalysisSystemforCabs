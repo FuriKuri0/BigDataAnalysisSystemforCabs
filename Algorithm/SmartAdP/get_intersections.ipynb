{
 "cells": [
  {
   "cell_type": "markdown",
   "id": "da66800f",
   "metadata": {},
   "source": [
    "此ipynb旨在通过两个高德api获取到广州市内所有交叉路口的经纬度数据"
   ]
  },
  {
   "cell_type": "markdown",
   "id": "541b3ff1",
   "metadata": {},
   "source": [
    "我高德的key值为91e0259f802bf676777e5a4d358fb9ed"
   ]
  },
  {
   "cell_type": "code",
   "execution_count": 1,
   "id": "acd08e08",
   "metadata": {},
   "outputs": [],
   "source": [
    "key = '91e0259f802bf676777e5a4d358fb9ed'"
   ]
  },
  {
   "cell_type": "markdown",
   "id": "3d22237c",
   "metadata": {},
   "source": [
    "第一个api是查询行政区域的api，官方文档https://lbs.amap.com/api/webservice/guide/api/district"
   ]
  },
  {
   "cell_type": "markdown",
   "id": "059b21e4",
   "metadata": {},
   "source": [
    "URL：https://restapi.amap.com/v3/config/district?parameters\n",
    "\n",
    "请求方式：GET"
   ]
  },
  {
   "cell_type": "code",
   "execution_count": 2,
   "id": "2983cf56",
   "metadata": {},
   "outputs": [],
   "source": [
    "import requests"
   ]
  },
  {
   "cell_type": "code",
   "execution_count": 3,
   "id": "5a9411f5",
   "metadata": {},
   "outputs": [],
   "source": [
    "url = 'https://restapi.amap.com/v3/config/district'\n",
    "data = {\n",
    "    'keywords': '广州',\n",
    "    'subdistrict': 3,\n",
    "    'key': key\n",
    "}"
   ]
  },
  {
   "cell_type": "code",
   "execution_count": 5,
   "id": "ffbd3c46",
   "metadata": {},
   "outputs": [],
   "source": [
    "r = requests.get(url, params=data)"
   ]
  },
  {
   "cell_type": "code",
   "execution_count": 6,
   "id": "91e87483",
   "metadata": {},
   "outputs": [],
   "source": [
    "districts = r.json()['districts'][0]['districts']  # 记录着各区信息，是个列表"
   ]
  },
  {
   "cell_type": "code",
   "execution_count": 7,
   "id": "1970f21d",
   "metadata": {},
   "outputs": [],
   "source": [
    "streets = districts[0]['districts']  # 记录着街道信息，是个列表"
   ]
  },
  {
   "cell_type": "markdown",
   "id": "d8dd377c",
   "metadata": {},
   "source": [
    "因为访问下一个接口时候的点坐标仍为\"lnt, lat\"的形式，所以先不进行格式的转换"
   ]
  },
  {
   "cell_type": "code",
   "execution_count": 10,
   "id": "54f4613c",
   "metadata": {},
   "outputs": [],
   "source": [
    "points = []\n",
    "for district in districts:\n",
    "    points.append(district['center'])\n",
    "    streets = district['districts']\n",
    "    for street in streets:\n",
    "#         point = list(map(float, street['center'].split(',')))\n",
    "        point = street['center']\n",
    "        points.append(point)"
   ]
  },
  {
   "cell_type": "code",
   "execution_count": 11,
   "id": "6e5f6b0f",
   "metadata": {},
   "outputs": [
    {
     "name": "stdout",
     "output_type": "stream",
     "text": [
      "190\n"
     ]
    }
   ],
   "source": [
    "print(len(points))"
   ]
  },
  {
   "cell_type": "markdown",
   "id": "85a39768",
   "metadata": {},
   "source": [
    "这样我们就得到了广州每个街道及每个区的中心点"
   ]
  },
  {
   "cell_type": "markdown",
   "id": "b6b36721",
   "metadata": {},
   "source": [
    "此时，第二个api隆重登场，逆地理编码的api，官方文档https://lbs.amap.com/api/webservice/guide/api/georegeo"
   ]
  },
  {
   "cell_type": "markdown",
   "id": "80f72bab",
   "metadata": {},
   "source": [
    "URL：https://restapi.amap.com/v3/geocode/regeo?parameters\n",
    "\n",
    "请求方式：GET"
   ]
  },
  {
   "cell_type": "code",
   "execution_count": 15,
   "id": "e18cc688",
   "metadata": {},
   "outputs": [
    {
     "name": "stdout",
     "output_type": "stream",
     "text": [
      "113.586,23.5481\n",
      "113.585,23.5485\n",
      "113.586,23.548\n"
     ]
    }
   ],
   "source": [
    "second_url = 'https://restapi.amap.com/v3/geocode/regeo'\n",
    "second_data = {\n",
    "    'key': key,\n",
    "    'location': points[0],\n",
    "    'radius': 3000,\n",
    "    'extensions': 'all',\n",
    "}\n",
    "r2 = requests.get(second_url, params=second_data)\n",
    "for i in r2.json()['regeocode']['roads']:\n",
    "    print(i['location'])"
   ]
  },
  {
   "cell_type": "code",
   "execution_count": 16,
   "id": "09e7b9bf",
   "metadata": {},
   "outputs": [],
   "source": [
    "intersections = []\n",
    "for point in points:\n",
    "    second_url = 'https://restapi.amap.com/v3/geocode/regeo'\n",
    "    second_data = {\n",
    "        'key': key,\n",
    "        'location': point,\n",
    "        'radius': 3000,\n",
    "        'extensions': 'all',\n",
    "    }\n",
    "    r2 = requests.get(second_url, params=second_data)\n",
    "    # 添加十字路口的经纬度\n",
    "    for one in r2.json()['regeocode']['roadinters']:\n",
    "        intersections.append(one['location'])\n",
    "    # 添加路口的经纬度\n",
    "    for i in r2.json()['regeocode']['roads']:\n",
    "        intersections.append(i['location'])"
   ]
  },
  {
   "cell_type": "code",
   "execution_count": 20,
   "id": "edbd0eca",
   "metadata": {},
   "outputs": [
    {
     "name": "stdout",
     "output_type": "stream",
     "text": [
      "751\n",
      "702\n"
     ]
    }
   ],
   "source": [
    "# 查看十字路口数\n",
    "print(len(intersections))\n",
    "print(len(list(set(intersections))))"
   ]
  },
  {
   "cell_type": "code",
   "execution_count": 21,
   "id": "48837c83",
   "metadata": {},
   "outputs": [],
   "source": [
    "# 说明确实有些重复的点，还是要进行筛选的\n",
    "intersections = list(set(intersections))"
   ]
  },
  {
   "cell_type": "markdown",
   "id": "aeeeb826",
   "metadata": {},
   "source": [
    "显然，每个点为字符串，以,分隔，为后面的数据预处理，要将每个点处理成列表形式，方便np.array转二维"
   ]
  },
  {
   "cell_type": "code",
   "execution_count": 22,
   "id": "e09225da",
   "metadata": {},
   "outputs": [
    {
     "data": {
      "text/plain": [
       "[113.249041, 23.147824]"
      ]
     },
     "execution_count": 22,
     "metadata": {},
     "output_type": "execute_result"
    }
   ],
   "source": [
    "list(map(float, intersections[0].split(',')))"
   ]
  },
  {
   "cell_type": "code",
   "execution_count": 23,
   "id": "85c8921a",
   "metadata": {},
   "outputs": [],
   "source": [
    "new_intersections = []\n",
    "for i in range(len(intersections)):\n",
    "    new_intersections.append(list(map(float, intersections[i].split(','))))"
   ]
  },
  {
   "cell_type": "code",
   "execution_count": 24,
   "id": "ef6cb3ad",
   "metadata": {},
   "outputs": [],
   "source": [
    "import json\n",
    "with open('new_intersections.json', 'w') as f:\n",
    "    a = json.dumps(new_intersections)\n",
    "    f.write(a)"
   ]
  }
 ],
 "metadata": {
  "kernelspec": {
   "display_name": "Python 3",
   "language": "python",
   "name": "python3"
  },
  "language_info": {
   "codemirror_mode": {
    "name": "ipython",
    "version": 3
   },
   "file_extension": ".py",
   "mimetype": "text/x-python",
   "name": "python",
   "nbconvert_exporter": "python",
   "pygments_lexer": "ipython3",
   "version": "3.8.10"
  }
 },
 "nbformat": 4,
 "nbformat_minor": 5
}
