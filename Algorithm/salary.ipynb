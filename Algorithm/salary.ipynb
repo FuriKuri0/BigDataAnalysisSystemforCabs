{
 "cells": [
  {
   "cell_type": "code",
   "execution_count": 177,
   "id": "e026e7f5",
   "metadata": {},
   "outputs": [],
   "source": [
    "import pandas as pd\n",
    "from tqdm import tqdm\n",
    "import warnings\n",
    "warnings.filterwarnings(\"ignore\")\n",
    "import re\n",
    "import numpy as np\n",
    "import matplotlib.pyplot as plt"
   ]
  },
  {
   "cell_type": "code",
   "execution_count": 2,
   "id": "e12cfb69",
   "metadata": {},
   "outputs": [],
   "source": [
    "data = pd.read_csv('OPERATE_HIS.csv')"
   ]
  },
  {
   "cell_type": "code",
   "execution_count": 3,
   "id": "e739b4a7",
   "metadata": {},
   "outputs": [],
   "source": [
    "driver = data['CHAUFFEUR_NO'].unique()"
   ]
  },
  {
   "cell_type": "code",
   "execution_count": 158,
   "id": "448a7555",
   "metadata": {},
   "outputs": [],
   "source": [
    "date = '2017-{}-{}'\n",
    "days = {2:[i for i in range(1,29)],3:[i for i in range(1,32)]}"
   ]
  },
  {
   "cell_type": "markdown",
   "id": "cb996962",
   "metadata": {},
   "source": [
    "### 计算每人每天工资"
   ]
  },
  {
   "cell_type": "code",
   "execution_count": 114,
   "id": "fd2fd7cd",
   "metadata": {
    "tags": []
   },
   "outputs": [
    {
     "name": "stderr",
     "output_type": "stream",
     "text": [
      "100%|██████████████████████████████████████████████████████████████████████████| 11503/11503 [2:06:59<00:00,  1.51it/s]\n"
     ]
    }
   ],
   "source": [
    "salary = {}\n",
    "for dri in tqdm(driver):\n",
    "    if dri not in salary:\n",
    "        salary[dri] = {}\n",
    "    taxi = data[data['CHAUFFEUR_NO'] == dri]\n",
    "    taxi['WORK_END_TIME'] = pd.to_datetime(taxi['WORK_END_TIME'])\n",
    "    taxi['WORK_END_TIME'] = pd.to_datetime(taxi['WORK_END_TIME'].apply(lambda x:'{}-{}-{}'.format(x.year,x.month,x.day)))\n",
    "    for i in [2,3]:\n",
    "        for j in day[i]:\n",
    "            if date.format(i,j) in salary[dri]:\n",
    "                salary[dri][date.format(i,j)] += taxi[taxi['WORK_END_TIME'] == date.format(i,j)]['OPERATE_MONEY'].sum() / 100\n",
    "            else :\n",
    "                salary[dri][date.format(i,j)] = taxi[taxi['WORK_END_TIME'] == date.format(i,j)]['OPERATE_MONEY'].sum() / 100"
   ]
  },
  {
   "cell_type": "code",
   "execution_count": 61,
   "id": "70f0c328",
   "metadata": {},
   "outputs": [],
   "source": [
    "import json"
   ]
  },
  {
   "cell_type": "code",
   "execution_count": 117,
   "id": "76e76bef",
   "metadata": {},
   "outputs": [],
   "source": [
    "with open('Salary.json','w') as f:\n",
    "    f.write(json.dumps(salary))"
   ]
  },
  {
   "cell_type": "markdown",
   "id": "5d3f2cf2",
   "metadata": {},
   "source": [
    "### 计算整体平均分时段工资"
   ]
  },
  {
   "cell_type": "code",
   "execution_count": 45,
   "id": "cc8a4892",
   "metadata": {
    "tags": []
   },
   "outputs": [],
   "source": [
    "data['TIME'] = pd.Series(map(lambda x:int(x[-8:-6]),data['WORK_END_TIME']))"
   ]
  },
  {
   "cell_type": "code",
   "execution_count": 52,
   "id": "ad50f405",
   "metadata": {},
   "outputs": [
    {
     "data": {
      "text/plain": [
       "55.45701544328156"
      ]
     },
     "execution_count": 52,
     "metadata": {},
     "output_type": "execute_result"
    }
   ],
   "source": [
    "# 平均的凌晨工资\n",
    "early_morning = data[pd.Series(map(lambda x:x >= 0 and x < 6,data['TIME']))]['OPERATE_MONEY'].sum() / (5900 * driver.shape[0])\n",
    "early_morning"
   ]
  },
  {
   "cell_type": "code",
   "execution_count": 53,
   "id": "18cd9ed2",
   "metadata": {},
   "outputs": [
    {
     "data": {
      "text/plain": [
       "94.54394426214532"
      ]
     },
     "execution_count": 53,
     "metadata": {},
     "output_type": "execute_result"
    }
   ],
   "source": [
    "morning = data[pd.Series(map(lambda x:x >= 6 and x < 12,data['TIME']))]['OPERATE_MONEY'].sum() / (5900 * driver.shape[0])\n",
    "morning"
   ]
  },
  {
   "cell_type": "code",
   "execution_count": 56,
   "id": "c44143ce",
   "metadata": {},
   "outputs": [
    {
     "data": {
      "text/plain": [
       "120.99858636729991"
      ]
     },
     "execution_count": 56,
     "metadata": {},
     "output_type": "execute_result"
    }
   ],
   "source": [
    "afternoon = data[pd.Series(map(lambda x:x >= 12 and x < 18,data['TIME']))]['OPERATE_MONEY'].sum() / (5900 * driver.shape[0])\n",
    "afternoon"
   ]
  },
  {
   "cell_type": "code",
   "execution_count": 57,
   "id": "9ac12e64",
   "metadata": {},
   "outputs": [
    {
     "data": {
      "text/plain": [
       "121.88398691866676"
      ]
     },
     "execution_count": 57,
     "metadata": {},
     "output_type": "execute_result"
    }
   ],
   "source": [
    "night = data[pd.Series(map(lambda x:x >= 18 and x < 24,data['TIME']))]['OPERATE_MONEY'].sum() / (5900 * driver.shape[0])\n",
    "night"
   ]
  },
  {
   "cell_type": "code",
   "execution_count": 59,
   "id": "6e0fb296",
   "metadata": {},
   "outputs": [],
   "source": [
    "mean = {'early_morning' : early_morning,\n",
    "       'morning' : morning,\n",
    "       'afternoon' : afternoon,\n",
    "       'night' : night}"
   ]
  },
  {
   "cell_type": "code",
   "execution_count": 62,
   "id": "fd85a5ba",
   "metadata": {},
   "outputs": [],
   "source": [
    "with open('Salary_mean.json','w') as f:\n",
    "    f.write(json.dumps(mean))"
   ]
  },
  {
   "cell_type": "markdown",
   "id": "6997bb7b",
   "metadata": {},
   "source": [
    "### 计算整体平均每天分时段工资"
   ]
  },
  {
   "cell_type": "code",
   "execution_count": 141,
   "id": "510ad8e4",
   "metadata": {},
   "outputs": [],
   "source": [
    "data['DAY'] = pd.Series(map(lambda x:x[:4].rstrip('/'),data['WORK_END_TIME']))"
   ]
  },
  {
   "cell_type": "code",
   "execution_count": 162,
   "id": "c98b8863",
   "metadata": {},
   "outputs": [
    {
     "name": "stderr",
     "output_type": "stream",
     "text": [
      "100%|██████████████████████████████████████████████████████████████████████████████████| 28/28 [00:22<00:00,  1.27it/s]\n",
      "100%|██████████████████████████████████████████████████████████████████████████████████| 31/31 [00:23<00:00,  1.29it/s]\n"
     ]
    }
   ],
   "source": [
    "salary = {}\n",
    "for mouth in [2,3]:\n",
    "    for day in tqdm(days[mouth]):\n",
    "        # 寻找当天的记录\n",
    "        dataset = data[data['DAY'] == '{}/{}'.format(day,mouth)]\n",
    "        dataset.index = range(dataset.shape[0])\n",
    "        # 当天四个时段的记录\n",
    "        early_morning = dataset[pd.Series(map(lambda x:x >= 0 and x < 6,dataset['TIME']))]['OPERATE_MONEY'].sum() / (100 * driver.shape[0])\n",
    "        morning = dataset[pd.Series(map(lambda x:x >= 6 and x < 12,dataset['TIME']))]['OPERATE_MONEY'].sum() / (100 * driver.shape[0])\n",
    "        afternoon = dataset[pd.Series(map(lambda x:x >= 12 and x < 18,dataset['TIME']))]['OPERATE_MONEY'].sum() / (100 * driver.shape[0])\n",
    "        night = dataset[pd.Series(map(lambda x:x >= 18 and x < 24,dataset['TIME']))]['OPERATE_MONEY'].sum() / (100 * driver.shape[0])\n",
    "        # 记录\n",
    "        salary['{}/{}'.format(day,mouth)] = {\n",
    "            'early_morning' : early_morning,\n",
    "            'morning' : morning,\n",
    "            'afternoon' : afternoon,\n",
    "            'night' : night\n",
    "        }"
   ]
  },
  {
   "cell_type": "code",
   "execution_count": 166,
   "id": "c10834f7",
   "metadata": {},
   "outputs": [],
   "source": [
    "with open('salary_day_mean.json','w') as f:\n",
    "    json.dump(salary,f)"
   ]
  },
  {
   "cell_type": "code",
   "execution_count": 190,
   "id": "6866f133",
   "metadata": {},
   "outputs": [
    {
     "data": {
      "image/png": "[encoded data removed]",
      "text/plain": [
       "<Figure size 360x360 with 1 Axes>"
      ]
     },
     "metadata": {
      "needs_background": "light"
     },
     "output_type": "display_data"
    }
   ],
   "source": [
    "fig, ax = plt.subplots(figsize=(5,5))\n",
    "ax.plot(vis_.T.ravel())\n",
    "\n",
    "plt.show()"
   ]
  },
  {
   "cell_type": "code",
   "execution_count": null,
   "id": "ca9739d4",
   "metadata": {},
   "outputs": [],
   "source": []
  }
 ],
 "metadata": {
  "kernelspec": {
   "display_name": "Python 3",
   "language": "python",
   "name": "python3"
  },
  "language_info": {
   "codemirror_mode": {
    "name": "ipython",
    "version": 3
   },
   "file_extension": ".py",
   "mimetype": "text/x-python",
   "name": "python",
   "nbconvert_exporter": "python",
   "pygments_lexer": "ipython3",
   "version": "3.7.10"
  }
 },
 "nbformat": 4,
 "nbformat_minor": 5
}
