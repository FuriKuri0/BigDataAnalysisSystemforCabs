{
 "cells": [
  {
   "cell_type": "code",
   "execution_count": 51,
   "id": "245d0b4d",
   "metadata": {},
   "outputs": [],
   "source": [
    "import pandas as pd\n",
    "import numpy as np\n",
    "import json\n",
    "import time\n",
    "import csv\n",
    "import os"
   ]
  },
  {
   "cell_type": "markdown",
   "id": "fe399e5b",
   "metadata": {},
   "source": [
    "需要对主流向的数据进行坐标上的转换"
   ]
  },
  {
   "cell_type": "markdown",
   "id": "c34c31d3",
   "metadata": {},
   "source": [
    "坐标转换的函数如下"
   ]
  },
  {
   "cell_type": "code",
   "execution_count": 52,
   "id": "5e0aa8ea",
   "metadata": {},
   "outputs": [],
   "source": [
    "import math\n",
    "x_pi = 3.14159265358979324 * 3000.0 / 180.0\n",
    "pi = 3.1415926535897932384626  # π\n",
    "a = 6378245.0  # 长半轴\n",
    "ee = 0.00669342162296594323  # 偏心率平方\n",
    "\n",
    "def wgs84_to_gcj02(lng, lat):\n",
    "    \"\"\"\n",
    "    WGS84转GCJ02(火星坐标系)\n",
    "    :param lng:WGS84坐标系的经度\n",
    "    :param lat:WGS84坐标系的纬度\n",
    "    :return:\n",
    "    \"\"\"\n",
    "    if out_of_china(lng, lat):  # 判断是否在国内\n",
    "        return [lng, lat]\n",
    "    dlat = _transformlat(lng - 105.0, lat - 35.0)\n",
    "    dlng = _transformlng(lng - 105.0, lat - 35.0)\n",
    "    radlat = lat / 180.0 * pi\n",
    "    magic = math.sin(radlat)\n",
    "    magic = 1 - ee * magic * magic\n",
    "    sqrtmagic = math.sqrt(magic)\n",
    "    dlat = (dlat * 180.0) / ((a * (1 - ee)) / (magic * sqrtmagic) * pi)\n",
    "    dlng = (dlng * 180.0) / (a / sqrtmagic * math.cos(radlat) * pi)\n",
    "    mglat = lat + dlat\n",
    "    mglng = lng + dlng\n",
    "    return [mglng, mglat]\n",
    "\n",
    "\n",
    "def out_of_china(lng, lat):\n",
    "    \"\"\"\n",
    "    判断是否在国内，不在国内不做偏移\n",
    "    :param lng:\n",
    "    :param lat:\n",
    "    :return:\n",
    "    \"\"\"\n",
    "    return not (lng > 73.66 and lng < 135.05 and lat > 3.86 and lat < 53.55)\n",
    "\n",
    "def _transformlat(lng, lat):\n",
    "    ret = -100.0 + 2.0 * lng + 3.0 * lat + 0.2 * lat * lat + \\\n",
    "          0.1 * lng * lat + 0.2 * math.sqrt(math.fabs(lng))\n",
    "    ret += (20.0 * math.sin(6.0 * lng * pi) + 20.0 *\n",
    "            math.sin(2.0 * lng * pi)) * 2.0 / 3.0\n",
    "    ret += (20.0 * math.sin(lat * pi) + 40.0 *\n",
    "            math.sin(lat / 3.0 * pi)) * 2.0 / 3.0\n",
    "    ret += (160.0 * math.sin(lat / 12.0 * pi) + 320 *\n",
    "            math.sin(lat * pi / 30.0)) * 2.0 / 3.0\n",
    "    return ret\n",
    "\n",
    "\n",
    "def _transformlng(lng, lat):\n",
    "    ret = 300.0 + lng + 2.0 * lat + 0.1 * lng * lng + \\\n",
    "          0.1 * lng * lat + 0.1 * math.sqrt(math.fabs(lng))\n",
    "    ret += (20.0 * math.sin(6.0 * lng * pi) + 20.0 *\n",
    "            math.sin(2.0 * lng * pi)) * 2.0 / 3.0\n",
    "    ret += (20.0 * math.sin(lng * pi) + 40.0 *\n",
    "            math.sin(lng / 3.0 * pi)) * 2.0 / 3.0\n",
    "    ret += (150.0 * math.sin(lng / 12.0 * pi) + 300.0 *\n",
    "            math.sin(lng / 30.0 * pi)) * 2.0 / 3.0\n",
    "    return ret"
   ]
  },
  {
   "cell_type": "markdown",
   "id": "4ac72c35",
   "metadata": {},
   "source": [
    "将数据弄成四个字段\n",
    "\n",
    "routeTime route longitude latitude  "
   ]
  },
  {
   "cell_type": "markdown",
   "id": "70f3eec9",
   "metadata": {},
   "source": [
    "总体代码"
   ]
  },
  {
   "cell_type": "code",
   "execution_count": 72,
   "id": "ce279ff9",
   "metadata": {},
   "outputs": [],
   "source": [
    "def write_file(date, data):\n",
    "    \"\"\"\n",
    "    date: 日期， 格式为20170201\n",
    "    data: 一个字典，依次是，例如['2017-02-01', 0, lng, lat]\n",
    "    \"\"\"\n",
    "    with open('csv/' + date + '.csv', 'a') as csvfile:\n",
    "        fieldnames = ['routeTime','route','longitude', 'latitude']\n",
    "        writer = csv.DictWriter(csvfile, fieldnames=fieldnames)\n",
    "        writer.writerow(data)"
   ]
  },
  {
   "cell_type": "code",
   "execution_count": 77,
   "id": "9ced007e",
   "metadata": {},
   "outputs": [],
   "source": [
    "filenames = os.listdir('res')\n",
    "pattern = re.compile('\\d{4}\\d{2}\\d{2}')\n",
    "days = [re.findall(pattern, filename)[0] for filename in file_names]\n",
    "pro_days = [day[:4]+'-'+day[4:6]+'-'+day[6:] for day in days]\n",
    "for i in range(len(filenames)):\n",
    "    file = json.load(open('res/' + filenames[i]), encoding='gbk')\n",
    "    routeTime = pro_days[i]\n",
    "    # 下三行负责加个表头\n",
    "    with open('csv/' + days[i] + '.csv', 'w') as csvfile:\n",
    "        writer = csv.writer(csvfile)\n",
    "        writer.writerow(['routeTime', 'route', 'longitude', 'latitude'])\n",
    "    # 将数据转换成csv格式\n",
    "    for route in list(file.keys()):\n",
    "        lngs_lats = file[route]\n",
    "        for lng_lat in lngs_lats:\n",
    "            lng, lat = lng_lat\n",
    "            lng, lat = wgs84_to_gcj02(lng, lat)  # 顺便将GPS转火星坐标系\n",
    "            data = {'routeTime': routeTime, 'route': route, 'longitude': lng, 'latitude': lat}\n",
    "            write_file(days[i], data)"
   ]
  },
  {
   "cell_type": "code",
   "execution_count": 88,
   "id": "4e979789",
   "metadata": {
    "collapsed": true
   },
   "outputs": [
    {
     "name": "stdout",
     "output_type": "stream",
     "text": [
      "20170201.csv{0: 2577, 2: 802, 4: 511, 3: 209, 1: 107}\n",
      "20170202.csv{0: 3577, 1: 423, 3: 92, 2: 82}\n",
      "20170203.csv{0: 3424, 3: 410, 1: 235, 2: 118}\n",
      "20170204.csv{0: 6158, 4: 440, 2: 431, 3: 253, 6: 252, 1: 35, 7: 7, 5: 1}\n",
      "20170205.csv{0: 4185, 1: 153, 3: 61, 4: 43, 2: 30, 5: 3}\n",
      "20170206.csv{0: 5450, 1: 580, 4: 188, 2: 101}\n",
      "20170207.csv{0: 5144, 3: 537, 4: 395, 2: 294, 1: 273, 5: 231}\n",
      "20170208.csv{0: 3352, 1: 66, 2: 56}\n",
      "20170209.csv{0: 3522, 1: 367, 2: 144, 3: 108}\n",
      "20170210.csv{0: 3895, 2: 465, 3: 401, 1: 367}\n",
      "20170211.csv{0: 3311, 1: 416, 2: 153, 3: 68}\n",
      "20170212.csv{0: 4651, 1: 486, 3: 315, 5: 144, 2: 97}\n",
      "20170213.csv{0: 3972, 1: 369, 3: 272, 2: 158}\n",
      "20170214.csv{0: 3720, 2: 84, 4: 73}\n",
      "20170215.csv{0: 3835, 1: 535, 2: 262, 3: 126}\n",
      "20170216.csv{0: 3639, 1: 1472, 3: 459, 2: 239}\n",
      "20170217.csv{0: 2980, 1: 430, 2: 177, 4: 80, 3: 50}\n",
      "20170218.csv{0: 2183, 3: 257}\n",
      "20170219.csv{0: 3784, 1: 373, 4: 222}\n",
      "20170220.csv{0: 3134, 3: 341, 1: 246, 4: 125}\n",
      "20170221.csv{0: 3103, 1: 584}\n",
      "20170222.csv{0: 3518, 1: 2323, 2: 223, 3: 217, 5: 66}\n",
      "20170223.csv{0: 4610, 1: 365, 4: 196, 2: 88}\n",
      "20170224.csv{0: 5041, 1: 463, 4: 107, 2: 69}\n",
      "20170225.csv{0: 4146, 4: 635, 1: 112, 2: 106, 3: 53}\n",
      "20170226.csv{0: 3169, 1: 404, 4: 362, 3: 269, 6: 246}\n",
      "20170227.csv{0: 3249, 1: 797, 3: 438, 4: 120, 2: 81}\n"
     ]
    }
   ],
   "source": [
    "yohu = os.listdir('csv')\n",
    "for file in yohu:\n",
    "    df = pd.read_csv('csv/' + file)\n",
    "    print(str(file) + str(dict(df.route.value_counts())))"
   ]
  },
  {
   "cell_type": "code",
   "execution_count": null,
   "id": "39cbc16f",
   "metadata": {},
   "outputs": [],
   "source": []
  },
  {
   "cell_type": "code",
   "execution_count": null,
   "id": "a2d7a92b",
   "metadata": {},
   "outputs": [],
   "source": []
  },
  {
   "cell_type": "code",
   "execution_count": null,
   "id": "10bfead0",
   "metadata": {},
   "outputs": [],
   "source": []
  }
 ],
 "metadata": {
  "kernelspec": {
   "display_name": "Python 3",
   "language": "python",
   "name": "python3"
  },
  "language_info": {
   "codemirror_mode": {
    "name": "ipython",
    "version": 3
   },
   "file_extension": ".py",
   "mimetype": "text/x-python",
   "name": "python",
   "nbconvert_exporter": "python",
   "pygments_lexer": "ipython3",
   "version": "3.8.10"
  }
 },
 "nbformat": 4,
 "nbformat_minor": 5
}
