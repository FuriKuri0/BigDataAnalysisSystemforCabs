{
 "cells": [
  {
   "cell_type": "code",
   "execution_count": 2,
   "id": "32896248",
   "metadata": {},
   "outputs": [],
   "source": [
    "import pandas as pd\n",
    "from tqdm import tqdm\n",
    "import warnings\n",
    "warnings.filterwarnings(\"ignore\")"
   ]
  },
  {
   "cell_type": "code",
   "execution_count": 102,
   "id": "f0ee9d8a",
   "metadata": {},
   "outputs": [],
   "source": [
    "data = pd.read_csv('OPERATE_HIS.csv')"
   ]
  },
  {
   "cell_type": "code",
   "execution_count": 50,
   "id": "ed809a86",
   "metadata": {},
   "outputs": [],
   "source": [
    "days = {2:[i for i in range(1,29)],3:[i for i in range(1,32)]}"
   ]
  },
  {
   "cell_type": "markdown",
   "id": "dd8e1446",
   "metadata": {},
   "source": [
    "### 利用率公式：$0.5\\frac{载客时间}{载客时间+空载时间}+0.5\\frac{载客里程}{载客里程+空载里程}$"
   ]
  },
  {
   "cell_type": "markdown",
   "id": "0d227b56",
   "metadata": {},
   "source": [
    "#### 数据预处理"
   ]
  },
  {
   "cell_type": "code",
   "execution_count": 103,
   "id": "0199e53b",
   "metadata": {},
   "outputs": [],
   "source": [
    "data['year_1'] = pd.Series(map(lambda x:x[-13:-9].rstrip('/'),data['EMPTY_BEGIN_TIME']))\n",
    "data['year_2'] = pd.Series(map(lambda x:x[-13:-9].rstrip('/'),data['WORK_BEGIN_TIME']))\n",
    "data['year_3'] = pd.Series(map(lambda x:x[-13:-9].rstrip('/'),data['WORK_END_TIME']))\n",
    "data = data[data['year_1'] == '2017']\n",
    "data = data[data['year_2'] == '2017']\n",
    "data = data[data['year_3'] == '2017']\n",
    "data.index = range(data.shape[0])\n",
    "data['DAY'] = pd.Series(map(lambda x:x[:4].rstrip('/'),data['WORK_END_TIME']))\n",
    "data['TIME'] = pd.Series(map(lambda x:int(x[-8:-6]),data['WORK_END_TIME']))"
   ]
  },
  {
   "cell_type": "code",
   "execution_count": 107,
   "id": "84e8bfa1",
   "metadata": {},
   "outputs": [
    {
     "name": "stderr",
     "output_type": "stream",
     "text": [
      "100%|██████████████████████████████████████████████████████████████████████████████████| 28/28 [20:32<00:00, 44.01s/it]\n",
      "100%|██████████████████████████████████████████████████████████████████████████████████| 31/31 [24:24<00:00, 47.25s/it]\n"
     ]
    }
   ],
   "source": [
    "Utilization_rate = {}\n",
    "for mouth in [2,3]:\n",
    "    for day in tqdm(days[mouth]):\n",
    "        pre_dataset = data[data['DAY'] == '{}/{}'.format(day,mouth)]\n",
    "        pre_dataset.index = range(pre_dataset.shape[0])\n",
    "        period = []\n",
    "        for i in range(4):\n",
    "            dataset = pre_dataset[pd.Series(map(lambda x:x >= i * 6 and x < (i+1) * 6,pre_dataset['TIME']))]\n",
    "            dataset.index = range(dataset.shape[0])\n",
    "            dataset['EMPTY_BEGIN_TIME'] = pd.to_datetime(dataset['EMPTY_BEGIN_TIME'])\n",
    "            dataset['WORK_BEGIN_TIME'] = pd.to_datetime(dataset['WORK_BEGIN_TIME'])\n",
    "            dataset['WORK_END_TIME'] = pd.to_datetime(dataset['WORK_END_TIME'])\n",
    "            empty_time = pd.Series(map(lambda x:x.seconds,dataset['WORK_BEGIN_TIME']-dataset['EMPTY_BEGIN_TIME']))\n",
    "            load_time = pd.Series(map(lambda x:x.seconds,dataset['WORK_END_TIME']-dataset['WORK_BEGIN_TIME']))\n",
    "            time = load_time / (empty_time + load_time)\n",
    "            mile = (dataset['LOAD_MILE'] / (dataset['LOAD_MILE'] + dataset['EMPTY_MILE'])).fillna(0)\n",
    "            period.append(0.5*(time + mile).mean())\n",
    "        Utilization_rate['{}/{}'.format(day,mouth)] = {\n",
    "            'early_morning' : period[0],\n",
    "            'morning' : period[1],\n",
    "            'afternoon' : period[2],\n",
    "            'night' : period[3]\n",
    "        }"
   ]
  },
  {
   "cell_type": "code",
   "execution_count": 109,
   "id": "243c6c3f",
   "metadata": {},
   "outputs": [],
   "source": [
    "import json"
   ]
  },
  {
   "cell_type": "code",
   "execution_count": 110,
   "id": "c83d80af",
   "metadata": {},
   "outputs": [],
   "source": [
    "with open('utilization.json','w') as f:\n",
    "    json.dump(Utilization_rate,f)"
   ]
  },
  {
   "cell_type": "code",
   "execution_count": null,
   "id": "5958a570",
   "metadata": {},
   "outputs": [],
   "source": []
  }
 ],
 "metadata": {
  "kernelspec": {
   "display_name": "Python 3",
   "language": "python",
   "name": "python3"
  },
  "language_info": {
   "codemirror_mode": {
    "name": "ipython",
    "version": 3
   },
   "file_extension": ".py",
   "mimetype": "text/x-python",
   "name": "python",
   "nbconvert_exporter": "python",
   "pygments_lexer": "ipython3",
   "version": "3.7.10"
  }
 },
 "nbformat": 4,
 "nbformat_minor": 5
}
