{
 "cells": [
  {
   "cell_type": "code",
   "execution_count": 1,
   "id": "2257c091",
   "metadata": {},
   "outputs": [],
   "source": [
    "import pandas as pd\n",
    "import json"
   ]
  },
  {
   "cell_type": "code",
   "execution_count": 3,
   "id": "39c522c0",
   "metadata": {},
   "outputs": [],
   "source": [
    "data = pd.read_csv('../dataset/weekend_data_with_loca.csv')"
   ]
  },
  {
   "cell_type": "code",
   "execution_count": 4,
   "id": "a7ee6cf9",
   "metadata": {},
   "outputs": [],
   "source": [
    "data = data.iloc[:,1:]"
   ]
  },
  {
   "cell_type": "code",
   "execution_count": 5,
   "id": "ec134d72",
   "metadata": {},
   "outputs": [],
   "source": [
    "data['TIME'] = pd.Series(map(lambda x:int(x[11:13]),data['W']))"
   ]
  },
  {
   "cell_type": "code",
   "execution_count": 6,
   "id": "f7f15f0f",
   "metadata": {},
   "outputs": [],
   "source": [
    "Area_flow = {}\n",
    "for area in set(data['location']):\n",
    "    pre_dataset = data[data['location'] == area]\n",
    "    pre_dataset.index = range(pre_dataset.shape[0])\n",
    "    flow = []\n",
    "    Area_flow[area] = {}\n",
    "    for j in range(24):\n",
    "        dataset = pre_dataset[pd.Series(map(lambda x:x >= j and x < (j+1),pre_dataset['TIME']))]\n",
    "        dataset.index = range(dataset.shape[0])\n",
    "        flow = dataset.shape[0]\n",
    "        Area_flow[area][j+1] = flow"
   ]
  },
  {
   "cell_type": "code",
   "execution_count": 7,
   "id": "748d6289",
   "metadata": {},
   "outputs": [],
   "source": [
    "with open('flow_weekend_24hour.json','w') as f:\n",
    "    json.dump(Area_flow,f)"
   ]
  },
  {
   "cell_type": "code",
   "execution_count": null,
   "id": "6c2b63e7",
   "metadata": {},
   "outputs": [],
   "source": []
  }
 ],
 "metadata": {
  "kernelspec": {
   "display_name": "Python 3",
   "language": "python",
   "name": "python3"
  },
  "language_info": {
   "codemirror_mode": {
    "name": "ipython",
    "version": 3
   },
   "file_extension": ".py",
   "mimetype": "text/x-python",
   "name": "python",
   "nbconvert_exporter": "python",
   "pygments_lexer": "ipython3",
   "version": "3.7.10"
  }
 },
 "nbformat": 4,
 "nbformat_minor": 5
}
