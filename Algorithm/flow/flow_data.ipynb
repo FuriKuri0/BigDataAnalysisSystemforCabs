{
 "cells": [
  {
   "cell_type": "code",
   "execution_count": 1,
   "id": "d7e48b66",
   "metadata": {},
   "outputs": [],
   "source": [
    "import pandas as pd\n",
    "import json\n",
    "from tqdm import tqdm"
   ]
  },
  {
   "cell_type": "code",
   "execution_count": 3,
   "id": "d4449d26",
   "metadata": {},
   "outputs": [],
   "source": [
    "data = pd.read_csv('./dataset/flow_data_all.csv')\n",
    "data = data.iloc[:,1:]\n",
    "data['TIME'] = pd.Series(map(lambda x:int(x[11:13]),data['W']))\n",
    "data['DAY'] = pd.Series(map(lambda x:x[5:10],data['W']))"
   ]
  },
  {
   "cell_type": "code",
   "execution_count": 7,
   "id": "fff8b357",
   "metadata": {},
   "outputs": [
    {
     "data": {
      "text/plain": [
       "(11105608, 6)"
      ]
     },
     "execution_count": 7,
     "metadata": {},
     "output_type": "execute_result"
    }
   ],
   "source": [
    "data.shape[0],data[data['Area'] == 7].shape[0]"
   ]
  },
  {
   "cell_type": "code",
   "execution_count": 20,
   "id": "e7bb0757",
   "metadata": {},
   "outputs": [],
   "source": [
    "mouths = ['02','03']\n",
    "days = {\n",
    "    '02' : ['01','02','03','04','05','06','07','08','09','10','11','12','13','14','15','16','17','18','19','20','21','22','23','24','25','26','27','28'],\n",
    "    '03' : ['01','02','03','04','05','06','07','08','09','10','11','12','13','14','15','16','17','18','19','20','21','22','23','24','25','26','27','28','29','30','31'],\n",
    "}"
   ]
  },
  {
   "cell_type": "code",
   "execution_count": 36,
   "id": "64bdd465",
   "metadata": {},
   "outputs": [
    {
     "name": "stderr",
     "output_type": "stream",
     "text": [
      "100%|██████████████████████████████████████████████████████████████████████████████████| 28/28 [00:51<00:00,  1.83s/it]\n",
      "100%|██████████████████████████████████████████████████████████████████████████████████| 31/31 [00:59<00:00,  1.91s/it]\n"
     ]
    }
   ],
   "source": [
    "Area_flow = {}\n",
    "for mouth in mouths:\n",
    "    for day in tqdm(days[mouth]):\n",
    "        dataset = data[data['DAY'] == '{}-{}'.format(mouth,day)]\n",
    "        dataset.index = range(dataset.shape[0])\n",
    "        Area_flow['{}-{}'.format(mouth,day)] = {}\n",
    "        for area in range(10):\n",
    "            pre_dataset = dataset[dataset['Area'] == area]\n",
    "            pre_dataset.index = range(pre_dataset.shape[0])\n",
    "            flow = []\n",
    "            Area_flow['{}-{}'.format(mouth,day)][area] = {}\n",
    "            for j in range(24):\n",
    "                dataset_ = pre_dataset[pd.Series(map(lambda x:x >= j and x < (j+1),pre_dataset['TIME']))]\n",
    "                dataset_.index = range(dataset_.shape[0])\n",
    "                flow = dataset_.shape[0]\n",
    "                Area_flow['{}-{}'.format(mouth,day)][area][j+1] = flow"
   ]
  },
  {
   "cell_type": "code",
   "execution_count": 37,
   "id": "8e9638dc",
   "metadata": {},
   "outputs": [],
   "source": [
    "with open('flow_all.json','w') as f:\n",
    "    json.dump(Area_flow,f)"
   ]
  },
  {
   "cell_type": "code",
   "execution_count": null,
   "id": "1593ae24",
   "metadata": {},
   "outputs": [],
   "source": []
  }
 ],
 "metadata": {
  "kernelspec": {
   "display_name": "Python 3",
   "language": "python",
   "name": "python3"
  },
  "language_info": {
   "codemirror_mode": {
    "name": "ipython",
    "version": 3
   },
   "file_extension": ".py",
   "mimetype": "text/x-python",
   "name": "python",
   "nbconvert_exporter": "python",
   "pygments_lexer": "ipython3",
   "version": "3.7.10"
  }
 },
 "nbformat": 4,
 "nbformat_minor": 5
}
