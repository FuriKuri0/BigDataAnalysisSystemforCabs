{
 "cells": [
  {
   "cell_type": "code",
   "execution_count": 99,
   "id": "5a112ab9",
   "metadata": {},
   "outputs": [],
   "source": [
    "import pandas as pd\n",
    "from matplotlib.path import Path\n",
    "import json\n",
    "from tqdm import tqdm"
   ]
  },
  {
   "cell_type": "code",
   "execution_count": 27,
   "id": "568c8ca1",
   "metadata": {},
   "outputs": [],
   "source": [
    "flow = pd.read_csv(\"../dataset/flow_data_all.csv\",index_col=0)\n",
    "with open('../dataset/location.json') as f:\n",
    "    locations = json.load(f)"
   ]
  },
  {
   "cell_type": "markdown",
   "id": "ccdf8d50",
   "metadata": {},
   "source": [
    "## 为flow的每一条数据加上地区，长时间！"
   ]
  },
  {
   "cell_type": "code",
   "execution_count": 70,
   "id": "090ee240",
   "metadata": {
    "tags": []
   },
   "outputs": [
    {
     "name": "stderr",
     "output_type": "stream",
     "text": [
      "100%|██████████████████████████████████████████████████████████████████| 11105608/11105608 [16:15:02<00:00, 189.83it/s]\n",
      "IOPub data rate exceeded.\n",
      "The Jupyter server will temporarily stop sending output\n",
      "to the client in order to avoid crashing it.\n",
      "To change this limit, set the config variable\n",
      "`--ServerApp.iopub_data_rate_limit`.\n",
      "\n",
      "Current values:\n",
      "ServerApp.iopub_data_rate_limit=1000000.0 (bytes/sec)\n",
      "ServerApp.rate_limit_window=3.0 (secs)\n",
      "\n"
     ]
    }
   ],
   "source": [
    "loca_list = []\n",
    "for i in tqdm(flow.index):\n",
    "    try:\n",
    "        flow_loc = list(flow.loc[i,['get_off_long','get_off_lat']])\n",
    "    except:\n",
    "        continue\n",
    "    flag = False\n",
    "    for i in range(len(locations)):\n",
    "        loca_p = Path(locations['{}'.format(i)]['location'])\n",
    "        if loca_p.contains_points([flow_loc])[0]:\n",
    "            loca_list.append(location['{}'.format(i)]['name'])\n",
    "            flag = True\n",
    "            break\n",
    "    if not flag:\n",
    "        loca_list.append('ERROR')\n",
    "print(loca_list)"
   ]
  },
  {
   "cell_type": "code",
   "execution_count": 86,
   "id": "58ce0b68",
   "metadata": {
    "tags": []
   },
   "outputs": [],
   "source": [
    "flow.loc[flow['location']=='ERROR','location'] = '天河区'"
   ]
  },
  {
   "cell_type": "code",
   "execution_count": 92,
   "id": "7ab5515c",
   "metadata": {},
   "outputs": [],
   "source": [
    "flow_loca = flow.drop(axis=1,columns='Area')\n",
    "flow_loca.to_csv(\"../dataset/flow_data_with_loca.csv\")"
   ]
  },
  {
   "cell_type": "code",
   "execution_count": 97,
   "id": "510d0248",
   "metadata": {},
   "outputs": [
    {
     "name": "stderr",
     "output_type": "stream",
     "text": [
      "E:\\anaconda\\lib\\site-packages\\numpy\\lib\\arraysetops.py:580: FutureWarning: elementwise comparison failed; returning scalar instead, but in the future will perform elementwise comparison\n",
      "  mask |= (ar1 == a)\n"
     ]
    }
   ],
   "source": []
  },
  {
   "cell_type": "code",
   "execution_count": 98,
   "id": "52daa5a4",
   "metadata": {},
   "outputs": [
    {
     "data": {
      "text/html": [
       "<div>\n",
       "<style scoped>\n",
       "    .dataframe tbody tr th:only-of-type {\n",
       "        vertical-align: middle;\n",
       "    }\n",
       "\n",
       "    .dataframe tbody tr th {\n",
       "        vertical-align: top;\n",
       "    }\n",
       "\n",
       "    .dataframe thead th {\n",
       "        text-align: right;\n",
       "    }\n",
       "</style>\n",
       "<table border=\"1\" class=\"dataframe\">\n",
       "  <thead>\n",
       "    <tr style=\"text-align: right;\">\n",
       "      <th></th>\n",
       "      <th>W</th>\n",
       "      <th>get_off_long</th>\n",
       "      <th>get_off_lat</th>\n",
       "      <th>location</th>\n",
       "    </tr>\n",
       "  </thead>\n",
       "  <tbody>\n",
       "    <tr>\n",
       "      <th>0</th>\n",
       "      <td>2017-02-04 17:47:29</td>\n",
       "      <td>113.249007</td>\n",
       "      <td>23.128932</td>\n",
       "      <td>荔湾区</td>\n",
       "    </tr>\n",
       "    <tr>\n",
       "      <th>1</th>\n",
       "      <td>2017-02-04 17:58:21</td>\n",
       "      <td>113.379155</td>\n",
       "      <td>22.937975</td>\n",
       "      <td>番禺区</td>\n",
       "    </tr>\n",
       "    <tr>\n",
       "      <th>2</th>\n",
       "      <td>2017-02-04 17:58:21</td>\n",
       "      <td>113.298335</td>\n",
       "      <td>23.141271</td>\n",
       "      <td>越秀区</td>\n",
       "    </tr>\n",
       "    <tr>\n",
       "      <th>3</th>\n",
       "      <td>2017-02-04 17:58:46</td>\n",
       "      <td>113.305260</td>\n",
       "      <td>23.098317</td>\n",
       "      <td>海珠区</td>\n",
       "    </tr>\n",
       "    <tr>\n",
       "      <th>4</th>\n",
       "      <td>2017-02-04 17:51:12</td>\n",
       "      <td>113.247702</td>\n",
       "      <td>23.116870</td>\n",
       "      <td>荔湾区</td>\n",
       "    </tr>\n",
       "    <tr>\n",
       "      <th>...</th>\n",
       "      <td>...</td>\n",
       "      <td>...</td>\n",
       "      <td>...</td>\n",
       "      <td>...</td>\n",
       "    </tr>\n",
       "    <tr>\n",
       "      <th>11175133</th>\n",
       "      <td>2017-03-29 17:37:16</td>\n",
       "      <td>113.264904</td>\n",
       "      <td>23.130300</td>\n",
       "      <td>越秀区</td>\n",
       "    </tr>\n",
       "    <tr>\n",
       "      <th>11175134</th>\n",
       "      <td>2017-03-29 17:37:17</td>\n",
       "      <td>113.421153</td>\n",
       "      <td>23.161513</td>\n",
       "      <td>黄埔区</td>\n",
       "    </tr>\n",
       "    <tr>\n",
       "      <th>11175135</th>\n",
       "      <td>2017-03-29 17:49:36</td>\n",
       "      <td>113.314848</td>\n",
       "      <td>23.153936</td>\n",
       "      <td>天河区</td>\n",
       "    </tr>\n",
       "    <tr>\n",
       "      <th>11175136</th>\n",
       "      <td>2017-03-29 17:49:38</td>\n",
       "      <td>113.277895</td>\n",
       "      <td>23.149458</td>\n",
       "      <td>越秀区</td>\n",
       "    </tr>\n",
       "    <tr>\n",
       "      <th>11175137</th>\n",
       "      <td>2017-03-29 17:49:39</td>\n",
       "      <td>113.335234</td>\n",
       "      <td>23.177647</td>\n",
       "      <td>天河区</td>\n",
       "    </tr>\n",
       "  </tbody>\n",
       "</table>\n",
       "<p>11105608 rows × 4 columns</p>\n",
       "</div>"
      ],
      "text/plain": [
       "                            W  get_off_long  get_off_lat location\n",
       "0         2017-02-04 17:47:29    113.249007    23.128932      荔湾区\n",
       "1         2017-02-04 17:58:21    113.379155    22.937975      番禺区\n",
       "2         2017-02-04 17:58:21    113.298335    23.141271      越秀区\n",
       "3         2017-02-04 17:58:46    113.305260    23.098317      海珠区\n",
       "4         2017-02-04 17:51:12    113.247702    23.116870      荔湾区\n",
       "...                       ...           ...          ...      ...\n",
       "11175133  2017-03-29 17:37:16    113.264904    23.130300      越秀区\n",
       "11175134  2017-03-29 17:37:17    113.421153    23.161513      黄埔区\n",
       "11175135  2017-03-29 17:49:36    113.314848    23.153936      天河区\n",
       "11175136  2017-03-29 17:49:38    113.277895    23.149458      越秀区\n",
       "11175137  2017-03-29 17:49:39    113.335234    23.177647      天河区\n",
       "\n",
       "[11105608 rows x 4 columns]"
      ]
     },
     "execution_count": 98,
     "metadata": {},
     "output_type": "execute_result"
    }
   ],
   "source": []
  },
  {
   "cell_type": "code",
   "execution_count": null,
   "id": "725a78c3",
   "metadata": {},
   "outputs": [],
   "source": []
  }
 ],
 "metadata": {
  "kernelspec": {
   "display_name": "Python 3",
   "language": "python",
   "name": "python3"
  },
  "language_info": {
   "codemirror_mode": {
    "name": "ipython",
    "version": 3
   },
   "file_extension": ".py",
   "mimetype": "text/x-python",
   "name": "python",
   "nbconvert_exporter": "python",
   "pygments_lexer": "ipython3",
   "version": "3.7.10"
  }
 },
 "nbformat": 4,
 "nbformat_minor": 5
}
